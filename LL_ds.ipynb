{
 "cells": [
  {
   "cell_type": "code",
   "execution_count": 3,
   "metadata": {},
   "outputs": [],
   "source": [
    "class landmark():\n",
    "    def __init__(self,location):\n",
    "        self.location = location\n",
    "        self.next = None\n",
    "        \n",
    "    def set_location(self, new_location):\n",
    "        self.location = new_location\n",
    "        \n",
    "    def get_location(self):\n",
    "        return self.location\n",
    "    \n",
    "    def set_next(self, new_next):\n",
    "        self.next = new_next\n",
    "        \n",
    "    def get_next(self):\n",
    "        return self.next\n",
    "    \n",
    "class locations():\n",
    "    def __init__(self):\n",
    "        self.head = None\n",
    "    \n",
    "    def add_front(self,location):\n",
    "        temp= landmark(location)\n",
    "        temp.set_next(self.head)\n",
    "        self.head = temp\n",
    "        \n",
    "    def is_empty(self):\n",
    "        return self.head is None\n",
    "    \n",
    "    def size(self):\n",
    "        if self.head is None:\n",
    "            return 0\n",
    "        else:\n",
    "            size =0\n",
    "            current = self.head\n",
    "            while current != None:\n",
    "                size = size +1\n",
    "                current = current.get_next()\n",
    "                \n",
    "            return size\n",
    "        \n",
    "    def remove(self, looking_location):\n",
    "        if self.head is None:\n",
    "            raise Exception ('No location is available')\n",
    "\n",
    "        else:\n",
    "            current = self.head\n",
    "            previous = None\n",
    "            print (current.location)\n",
    "            \n",
    "            found = False\n",
    "            while current != None:\n",
    "                if current.get_location() == looking_location:\n",
    "                    print(current.get_location())\n",
    "                    found = True\n",
    "                    previous.set_next(current.get_next())\n",
    "                    break\n",
    "                else:\n",
    "                    print('no')\n",
    "                    previous = current\n",
    "                    current = current.get_next()\n",
    "                \n",
    "            if found:\n",
    "                return ('the item is there and getting removed')\n",
    "            else:\n",
    "                 return('This item to remove is not available')\n",
    "\n",
    "    \n",
    "    def find(self, looking_location):\n",
    "        if self.head is None:\n",
    "            return (\"No items are there\")\n",
    "        \n",
    "        if self.size ==1:\n",
    "            return self.location == looking_location\n",
    "        else:\n",
    "            current = self.head\n",
    "            found = False\n",
    "            while current != None:\n",
    "                if current.get_location() == looking_location:\n",
    "                    found = True\n",
    "                    break\n",
    "                else:\n",
    "                    current = current.get_next()\n",
    "                \n",
    "            if found:\n",
    "                return ('the item is there')\n",
    "            else:\n",
    "                return('This item was not in our locationbase')\n",
    "            \n",
    "    def traverse(self):\n",
    "        current = self.head\n",
    "        while current != None:\n",
    "            print(current.get_location())\n",
    "            current = current.get_next()\n",
    "        \n",
    "            \n",
    "    "
   ]
  },
  {
   "cell_type": "code",
   "execution_count": 4,
   "metadata": {},
   "outputs": [
    {
     "data": {
      "text/plain": [
       "3"
      ]
     },
     "execution_count": 4,
     "metadata": {},
     "output_type": "execute_result"
    }
   ],
   "source": [
    "subscriber1 =locations()\n",
    "subscriber1.add_front('Jeddah')\n",
    "subscriber1.add_front('Riyadh')\n",
    "subscriber1.add_front('Dammam')\n",
    "subscriber1.size()\n",
    "#subscriber1.traverse()"
   ]
  },
  {
   "cell_type": "code",
   "execution_count": 5,
   "metadata": {},
   "outputs": [
    {
     "name": "stdout",
     "output_type": "stream",
     "text": [
      "Dammam\n",
      "Riyadh\n",
      "Jeddah\n"
     ]
    }
   ],
   "source": [
    "subscriber1.traverse()\n",
    "\n"
   ]
  },
  {
   "cell_type": "code",
   "execution_count": 6,
   "metadata": {},
   "outputs": [
    {
     "name": "stdout",
     "output_type": "stream",
     "text": [
      "Dammam\n",
      "no\n",
      "Riyadh\n"
     ]
    },
    {
     "data": {
      "text/plain": [
       "'the item is there and getting removed'"
      ]
     },
     "execution_count": 6,
     "metadata": {},
     "output_type": "execute_result"
    }
   ],
   "source": [
    "subscriber1.remove('Riyadh')"
   ]
  },
  {
   "cell_type": "code",
   "execution_count": null,
   "metadata": {},
   "outputs": [],
   "source": []
  },
  {
   "cell_type": "code",
   "execution_count": null,
   "metadata": {},
   "outputs": [],
   "source": []
  },
  {
   "cell_type": "code",
   "execution_count": null,
   "metadata": {},
   "outputs": [],
   "source": []
  }
 ],
 "metadata": {
  "kernelspec": {
   "display_name": "Python 3",
   "language": "python",
   "name": "python3"
  },
  "language_info": {
   "codemirror_mode": {
    "name": "ipython",
    "version": 3
   },
   "file_extension": ".py",
   "mimetype": "text/x-python",
   "name": "python",
   "nbconvert_exporter": "python",
   "pygments_lexer": "ipython3",
   "version": "3.6.5"
  }
 },
 "nbformat": 4,
 "nbformat_minor": 2
}
