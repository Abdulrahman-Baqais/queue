{
 "cells": [
  {
   "cell_type": "code",
   "execution_count": 22,
   "metadata": {},
   "outputs": [],
   "source": [
    "class orders:\n",
    "    def __init__(self):\n",
    "        self.requests =[]\n",
    "    \n",
    "    def enqueue(self, new_request):\n",
    "            self.requests.insert(0,new_request)\n",
    "    \n",
    "    def dequeue(self):\n",
    "        if self.requests:\n",
    "            return self.requests.pop()\n",
    "        else:\n",
    "            return None\n",
    "    \n",
    "    def is_empty(self):\n",
    "        return self.requests ==[]\n",
    "    \n",
    "    def size(self):\n",
    "        return len(self.requests)\n",
    "    \n",
    "    def peek(self):\n",
    "        return self.requests[-1]\n"
   ]
  },
  {
   "cell_type": "code",
   "execution_count": 23,
   "metadata": {},
   "outputs": [
    {
     "name": "stdout",
     "output_type": "stream",
     "text": [
      "There are 12 request in the queue. Please wait\n"
     ]
    }
   ],
   "source": [
    "orders_q = orders()\n",
    "employees_requests= [12, 15,68,90,45,84,63,21,84,69,66,32]\n",
    "for i in employees_requests:\n",
    "    orders_q.enqueue(i)\n",
    "\n",
    "print(f'There are {orders_q.size()} request in the queue. Please wait')   \n"
   ]
  },
  {
   "cell_type": "code",
   "execution_count": null,
   "metadata": {},
   "outputs": [],
   "source": []
  }
 ],
 "metadata": {
  "kernelspec": {
   "display_name": "Python 3",
   "language": "python",
   "name": "python3"
  },
  "language_info": {
   "codemirror_mode": {
    "name": "ipython",
    "version": 3
   },
   "file_extension": ".py",
   "mimetype": "text/x-python",
   "name": "python",
   "nbconvert_exporter": "python",
   "pygments_lexer": "ipython3",
   "version": "3.6.5"
  }
 },
 "nbformat": 4,
 "nbformat_minor": 2
}
